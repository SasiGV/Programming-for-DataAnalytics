{
 "cells": [
  {
   "cell_type": "markdown",
   "metadata": {},
   "source": [
    "# Programming-for-DataAnalysis\n",
    "### Practical Assignment for Semester 2 - 2019\n",
    "#### Student Name : Sasikala Varatharajan\n",
    "#### Student Number : G00376470\n",
    "\n",
    "### Assignment Topic : numpy.random package in Python\n"
   ]
  },
  {
   "cell_type": "markdown",
   "metadata": {},
   "source": [
    "##  1. Explain the overall purpose of the package\n",
    "\n",
    "NumPy is the fundamental package for scientific computing with Python. It provides:\n",
    "\n",
    " - a powerful N-dimensional array object\n",
    "\n",
    " - sophisticated (broadcasting) functions\n",
    "\n",
    " - tools for integrating C/C++ and Fortran code\n",
    "\n",
    " - useful linear algebra, Fourier transform, and random number capabilities\n",
    "\n",
    "On the top of it's scientific uses, NumPy can also be used as an efficient multi-dimensional container of generic data. Arbitrary data-types can be defined and this allows NumPy to speedily integrate with a wide variety of databases."
   ]
  },
  {
   "cell_type": "markdown",
   "metadata": {},
   "source": [
    "Numpy is a specialist package that is really efficient dealing with arrays and numbers. It is used to perform different operations. It is a multidimensional array used to store values of same datatypes. It uses much less memory to store data. It takes significantly less amount of memory as compared to python lists. It provie a significant number of additional benefits which makes it easy to apply mathemical calculations.\n",
    "\n",
    "Numpy.random is a sub-package of the numpy package in Python and it is used to generate random (pseudorandom) numbers. A number of other packages depend on Numpy. Interacting with it directly is not that common - You usually interact with numpy objects through the use of other packages such as pandas or scipy. There are a number of ways to generate random numbers and the numpy.random package has four sections to do this:\n",
    "\n",
    "1 - Random Data Sampling\n",
    "\n",
    "2 - Permutations\n",
    "\n",
    "3 - Distributions - different probability distributions\n",
    "\n",
    "4 - Random Generator"
   ]
  },
  {
   "cell_type": "markdown",
   "metadata": {},
   "source": [
    "### 1.1  Importing the libaries for this project: Numpy, Matplotlib, Pandas and Seaborn\n",
    "\n",
    "NumPy is the fundamental package for scientific computing with Python\n",
    "\n",
    "Matplotlib ss a Pythod 2D plotting library for the Python programming language and its numerical mathematics extension NumPy.\n",
    "\n",
    "Pandas is an open source, BSD-licensed library providing high-performance, easy-to-use data structures and data analysis tools.\n",
    "\n",
    "Seaborn is a Python visualization library based on matplotlib. It provides a high-level interface for drawing attractive statistical graphics."
   ]
  },
  {
   "cell_type": "code",
   "execution_count": 14,
   "metadata": {},
   "outputs": [],
   "source": [
    "# import numpy\n",
    "import numpy as np\n",
    "# import matplotlib\n",
    "import matplotlib.pyplot as plt\n",
    "# import pandas\n",
    "import pandas as pd\n",
    "# import seaborn\n",
    "import seaborn as sns"
   ]
  },
  {
   "cell_type": "markdown",
   "metadata": {},
   "source": [
    "## 2. Explian the use of the \"Simple random data\" and \"Permutations\" functions\n",
    "\n",
    "### 2.1 Simple Random Data\n",
    "\n",
    "A research on a large set of data is time consuming and most of the time researchers use to choose a sample data from the large set of data to do their research. \n",
    "\n",
    "All the functions under Simple random data section is doing the same to generate a simple set of random data. The output from the functions are always in a simple structure like one random number, integers only, array of numbers in a 2 x 2 array, numbers in a specific format between the selected range, etc. Now a days a number of gamming apps are using the same technique to suffle the values. \n",
    "\n",
    "I have included few functions from Simple Random data section of numpy.random to show how it is used in Python programming with examples.\n"
   ]
  },
  {
   "cell_type": "markdown",
   "metadata": {},
   "source": [
    "#### 2.1.1 - np.random.rand\n",
    "\n",
    "np.random.rand retuns values in a given shape. It will create an array of the given shape and populate it with random sample from a uniform distribution over [0, 1] \n",
    "\n",
    "The dimentions of the returned array, should all be positive. If no arguments is given a single Pythod float is returned.\n",
    "\n",
    "The example below will return an array with 3 columns and 4 rows with numbers betweeen 0 and 1"
   ]
  },
  {
   "cell_type": "code",
   "execution_count": 2,
   "metadata": {},
   "outputs": [
    {
     "data": {
      "text/plain": [
       "array([[0.25025917, 0.04778962, 0.084583  ],\n",
       "       [0.23044254, 0.34438609, 0.2309101 ],\n",
       "       [0.36496668, 0.69265287, 0.13908988],\n",
       "       [0.16494901, 0.29533918, 0.73098986]])"
      ]
     },
     "execution_count": 2,
     "metadata": {},
     "output_type": "execute_result"
    }
   ],
   "source": [
    "## Generate a 4 X 3 random array with values between 0 and 1\n",
    "\n",
    "np.random.rand(4,3)"
   ]
  },
  {
   "cell_type": "markdown",
   "metadata": {},
   "source": [
    "####  2.1.2 np.random.randint\n",
    "\n",
    "Returns random integers from the \"discrete uniform\" distribution of the specified dtype in the interval. \n",
    "\n",
    "Results from this function contains a size shapped array if random integers from the appropriate distribution or a single random int if size not provided."
   ]
  },
  {
   "cell_type": "code",
   "execution_count": 3,
   "metadata": {},
   "outputs": [
    {
     "data": {
      "text/plain": [
       "array([0, 1, 2, 2, 2, 2, 2, 2, 2, 1])"
      ]
     },
     "execution_count": 3,
     "metadata": {},
     "output_type": "execute_result"
    }
   ],
   "source": [
    "## Generate a 1 X 10 array with values between 0 and 3 \n",
    "\n",
    "np.random.randint(3, size=10)"
   ]
  },
  {
   "cell_type": "markdown",
   "metadata": {},
   "source": [
    "####  2.1.3 np.random.random_sample\n",
    "\n",
    "This function is used to return a array of random floats of shape size. The uniform distribution (continuous) is one of the simplest probability distributions in statistics.\n",
    "\n",
    "If there is no size specified in the function then a single float will be returned.\n"
   ]
  },
  {
   "cell_type": "code",
   "execution_count": 4,
   "metadata": {},
   "outputs": [
    {
     "data": {
      "text/plain": [
       "0.3624600626911477"
      ]
     },
     "execution_count": 4,
     "metadata": {},
     "output_type": "execute_result"
    }
   ],
   "source": [
    "## Generate a random single float \n",
    "\n",
    "np.random.random_sample()"
   ]
  },
  {
   "cell_type": "code",
   "execution_count": 5,
   "metadata": {
    "scrolled": true
   },
   "outputs": [
    {
     "data": {
      "text/plain": [
       "array([[-2.58216591, -1.31597236, -0.8449067 , -0.52956975, -1.05689123],\n",
       "       [-4.47645181, -3.26486873, -0.77337837, -2.55103085, -3.64536568],\n",
       "       [-4.30538946, -3.7851234 , -1.31453752, -3.82047553, -2.40284278],\n",
       "       [-4.23628505, -4.43443956, -2.71092014, -1.55153984, -0.74619419]])"
      ]
     },
     "execution_count": 5,
     "metadata": {},
     "output_type": "execute_result"
    }
   ],
   "source": [
    "## Generate a four by five array of random numbers from [-5,0]\n",
    "\n",
    "5 * np.random.random_sample((4,5)) - 5"
   ]
  },
  {
   "cell_type": "markdown",
   "metadata": {},
   "source": [
    "### 2.2 - Permutations\n",
    "\n",
    "A permutation is used to randomly shuffle the elements of an array.  \n",
    "\n",
    "I have included the function under the \"Permutations\" section of the numpy.random documentation below\n"
   ]
  },
  {
   "cell_type": "markdown",
   "metadata": {},
   "source": [
    "#### 2.2.1 Shuffle\n",
    "\n",
    "This function is used to modify the sequence in-place by shuffling its contents. If it has to shuffle a multi dimentional array then it will only shuffle the array along the first index of it.\n",
    "\n"
   ]
  },
  {
   "cell_type": "code",
   "execution_count": 6,
   "metadata": {},
   "outputs": [
    {
     "data": {
      "text/plain": [
       "array([2, 7, 9, 0, 3, 8, 5, 4, 6, 1])"
      ]
     },
     "execution_count": 6,
     "metadata": {},
     "output_type": "execute_result"
    }
   ],
   "source": [
    "## Generate an array with the given size and shuffle the contents\n",
    "\n",
    "array = np.arange(10)\n",
    "np.random.shuffle(array)\n",
    "array\n"
   ]
  },
  {
   "cell_type": "code",
   "execution_count": 7,
   "metadata": {},
   "outputs": [
    {
     "data": {
      "text/plain": [
       "array([[ 8,  9, 10, 11],\n",
       "       [ 0,  1,  2,  3],\n",
       "       [ 4,  5,  6,  7]])"
      ]
     },
     "execution_count": 7,
     "metadata": {},
     "output_type": "execute_result"
    }
   ],
   "source": [
    "## Generate a multi dimentional array and shuffle the contents\n",
    "\n",
    "array = np.arange(12).reshape((3,4))\n",
    "np.random.shuffle(array)\n",
    "array\n"
   ]
  },
  {
   "cell_type": "markdown",
   "metadata": {},
   "source": [
    "#### 2.2.2 Permutation\n",
    "\n",
    "This function is used to permute a sequence or return a permuted range. If the input value is a multi dimentional array then it will make a copy and shuffle the elements randomly\n"
   ]
  },
  {
   "cell_type": "code",
   "execution_count": 8,
   "metadata": {},
   "outputs": [
    {
     "data": {
      "text/plain": [
       "array([4, 2, 5, 3, 7, 8, 1, 6, 9, 0])"
      ]
     },
     "execution_count": 8,
     "metadata": {},
     "output_type": "execute_result"
    }
   ],
   "source": [
    "## Generate a permute sequence\n",
    "\n",
    "np.random.permutation(10)"
   ]
  },
  {
   "cell_type": "code",
   "execution_count": 9,
   "metadata": {},
   "outputs": [
    {
     "data": {
      "text/plain": [
       "array([20, 12,  6,  8, 25,  3])"
      ]
     },
     "execution_count": 9,
     "metadata": {},
     "output_type": "execute_result"
    }
   ],
   "source": [
    "## Generate a random array from a given array\n",
    "\n",
    "np.random.permutation([3,6,8,12,20,25])\n"
   ]
  },
  {
   "cell_type": "code",
   "execution_count": 12,
   "metadata": {},
   "outputs": [
    {
     "data": {
      "text/plain": [
       "array([[ 0,  1,  2,  3],\n",
       "       [ 4,  5,  6,  7],\n",
       "       [ 8,  9, 10, 11]])"
      ]
     },
     "execution_count": 12,
     "metadata": {},
     "output_type": "execute_result"
    }
   ],
   "source": [
    "## Generate a random array and shuffle it\n",
    "\n",
    "array = np.arange(12).reshape(3,4)\n",
    "np.random.permutation(array)\n",
    "array\n"
   ]
  },
  {
   "cell_type": "markdown",
   "metadata": {},
   "source": [
    "### 3. Explain the use and purpose of at least five \"Distributions\" functions\n",
    "\n",
    "Distributions are the spread of data across certain categories.  There are many different probability distribution functions that can be used to show us how likely certain outcomes are and I have taken few example functions in the numpy.random package to generate random values from different distributions i.e. binomial, normal, uniform, triangular, exponential"
   ]
  },
  {
   "cell_type": "markdown",
   "metadata": {},
   "source": [
    "### 3.1 Binominal Distribution\n",
    "\n",
    "Binomial is one of the distribution functions which has two outcomes with the same probablity of outcome. For example, success or failure, gain or loss, win or lose and where the probablity of success and failure i same for all the trials is called a Binomial Dsitribution. Parameters of this function are n- total number of trials, p - probablity of success in each trial. \n",
    "\n",
    "The probability density for the binomial distribution is\n"
   ]
  },
  {
   "cell_type": "code",
   "execution_count": 27,
   "metadata": {},
   "outputs": [
    {
     "data": {
      "image/png": "[encoded data removed]",
      "text/plain": [
       "<IPython.core.display.Image object>"
      ]
     },
     "execution_count": 27,
     "metadata": {
      "image/png": {
       "height": 200,
       "width": 200
      }
     },
     "output_type": "execute_result"
    }
   ],
   "source": [
    "from IPython.display import Image\n",
    "Image(filename=\"attachments\\Binomial_dist_formula.png\", width=200, height=200)"
   ]
  },
  {
   "cell_type": "markdown",
   "metadata": {},
   "source": [
    "where n is the number of trials, p is the probability of success, and N is the number of successes.\n",
    "\n",
    "When estimating the standard error of a proportion in a population by using a random sample, the normal distribution works well unless the product p*n <=5, where p = population proportion estimate, and n = number of samples, in which case the binomial distribution is used instead. For example, a sample of 15 people shows 4 who are left handed, and 11 who are right handed. Then p = 4/15 = 27%. 0.27*15 = 4, so the binomial distribution should be used in this case.\n"
   ]
  },
  {
   "cell_type": "markdown",
   "metadata": {},
   "source": [
    "In order to show binomial distribution in an example I have taken the scenario where a box contains 100 chocolates in total with two different flavour at equal quantity. So the box contains 50 strawberry flavour and 50 lemon flavour chocolates. Now we have a trial to select 10 out of the 100 and chooing strawberry chocolates is defined as success. The probability distribution if the number of successes during these ten trials with p=0.5 is shown here. "
   ]
  },
  {
   "cell_type": "code",
   "execution_count": 34,
   "metadata": {},
   "outputs": [
    {
     "data": {
      "image/png": "[encoded data removed]",
      "text/plain": [
       "<Figure size 432x288 with 1 Axes>"
      ]
     },
     "metadata": {
      "needs_background": "light"
     },
     "output_type": "display_data"
    }
   ],
   "source": [
    "n, p = 10, 0.5  # No of chocolates to be picked, probability of strawberry or lemon flavor showing\n",
    "t = np.random.binomial(n, p, 100) \n",
    "plt.xlabel('number of successes')\n",
    "plt.ylabel('P(x)')\n",
    "plt.hist(t)\n",
    "plt.show()"
   ]
  },
  {
   "cell_type": "markdown",
   "metadata": {},
   "source": [
    "The above figure shows when p=0.5, the distribution is symmetric about its expected value of 5, where the probablities of x being below the mean matches with the probabilities of x being above the mean."
   ]
  },
  {
   "cell_type": "markdown",
   "metadata": {},
   "source": [
    "If the probality of selecting strawbery flavor is less than 0.5, the distribution is positively skewed, meaning pobabilities of x are greater for values below the expected value than above it."
   ]
  },
  {
   "cell_type": "code",
   "execution_count": 35,
   "metadata": {},
   "outputs": [
    {
     "data": {
      "image/png": "[encoded data removed]",
      "text/plain": [
       "<Figure size 432x288 with 1 Axes>"
      ]
     },
     "metadata": {
      "needs_background": "light"
     },
     "output_type": "display_data"
    }
   ],
   "source": [
    "n, p = 10, 0.2  # No of chocolates to be picked, probability of strawberry or lemon flavor showing\n",
    "t = np.random.binomial(n, p, 100) \n",
    "plt.xlabel('number of successes')\n",
    "plt.ylabel('P(x)')\n",
    "plt.hist(t)\n",
    "plt.show()"
   ]
  },
  {
   "cell_type": "markdown",
   "metadata": {},
   "source": [
    "If the probality of selecting strawbery flavor is greater than 0.5, the distribution is negatively skewed, meaning pobabilities of x are greater for values above the expected value than below it."
   ]
  },
  {
   "cell_type": "code",
   "execution_count": 37,
   "metadata": {},
   "outputs": [
    {
     "data": {
      "image/png": "[encoded data removed]",
      "text/plain": [
       "<Figure size 432x288 with 1 Axes>"
      ]
     },
     "metadata": {
      "needs_background": "light"
     },
     "output_type": "display_data"
    }
   ],
   "source": [
    "n, p = 10, 0.8  # No of chocolates to be picked, probability of strawberry or lemon flavor showing\n",
    "t = np.random.binomial(n, p, 100) \n",
    "plt.xlabel('number of successes')\n",
    "plt.ylabel('P(x)')\n",
    "plt.hist(t)\n",
    "plt.show()"
   ]
  },
  {
   "cell_type": "markdown",
   "metadata": {},
   "source": [
    "### 3.2 Normal Distribution\n",
    "\n",
    "The normal ditribution is a continuous dustribution that arises in many natural processes. Continuous means that between any two data values we could find another data value. It is often called the bell shapped normal curve because of its characteristic shape.\n",
    "\n",
    "The syntax of numpy normal distribution is np.random.normal(loc, scale, size) where loc is the mean of the distribution, scale is the standard deviation of the distribution and size is the shape of the output numpy array"
   ]
  },
  {
   "cell_type": "code",
   "execution_count": 38,
   "metadata": {},
   "outputs": [
    {
     "name": "stdout",
     "output_type": "stream",
     "text": [
      "0.9935178536661581\n",
      "0.48232364185299365\n"
     ]
    }
   ],
   "source": [
    "x = np.random.normal(1,0.5,1000) # 1 is the mean, 0.5 is the standard deviation and 1000 is the size\n",
    "print(np.mean(x)) # test that the mean is 1 - if code is re-run, the mean will be very close to 1\n",
    "print(np.std(x)) # test that the standard deviation is 0.5 - if code is re-run, the mean will be very close to 0.5"
   ]
  },
  {
   "cell_type": "code",
   "execution_count": 39,
   "metadata": {},
   "outputs": [
    {
     "name": "stderr",
     "output_type": "stream",
     "text": [
      "C:\\Users\\charm\\Anaconda3\\lib\\site-packages\\scipy\\stats\\stats.py:1713: FutureWarning: Using a non-tuple sequence for multidimensional indexing is deprecated; use `arr[tuple(seq)]` instead of `arr[seq]`. In the future this will be interpreted as an array index, `arr[np.array(seq)]`, which will result either in an error or a different result.\n",
      "  return np.add.reduce(sorted[indexer] * weights, axis=axis) / sumval\n"
     ]
    },
    {
     "data": {
      "text/plain": [
       "<matplotlib.axes._subplots.AxesSubplot at 0x253cc81d518>"
      ]
     },
     "execution_count": 39,
     "metadata": {},
     "output_type": "execute_result"
    },
    {
     "data": {
      "image/png": "[encoded data removed]",
      "text/plain": [
       "<Figure size 432x288 with 1 Axes>"
      ]
     },
     "metadata": {
      "needs_background": "light"
     },
     "output_type": "display_data"
    }
   ],
   "source": [
    "sns.distplot(x) # use seaborn to create plot"
   ]
  },
  {
   "cell_type": "markdown",
   "metadata": {},
   "source": [
    "### 3.3 Uniform Distribution\n",
    "\n",
    "Uniform Distribution function is used to equaliy distribute the sample values from the given interval. Random function that we saw earlier in this article is also used to generate random numbers from 0 to 1 where there is no part of the interval (0,1). Distribution of random numbers in this case is also called uniform.  \n",
    "\n",
    "From the following example, I have taken 1000 random numbers from 0 to 1 and displaed it on historgram to show the distribution"
   ]
  },
  {
   "cell_type": "code",
   "execution_count": 40,
   "metadata": {},
   "outputs": [
    {
     "data": {
      "image/png": "[encoded data removed]",
      "text/plain": [
       "<Figure size 432x288 with 1 Axes>"
      ]
     },
     "metadata": {
      "needs_background": "light"
     },
     "output_type": "display_data"
    }
   ],
   "source": [
    "data = np.random.uniform(0,1,1000)\n",
    "plt.hist(data, 20, facecolor='green')\n",
    "plt.xlabel('units [0, 1]')\n",
    "plt.ylabel('Count')\n",
    "plt.title(\"Uniform distribution\")\n",
    "plt.axis([0,1,0,100])\n",
    "plt.grid(True)\n",
    "plt.show(block = False)\n",
    "\n"
   ]
  },
  {
   "cell_type": "markdown",
   "metadata": {},
   "source": [
    "### 3.4 Triangular Distribution\n",
    "\n",
    "\n",
    "A triangular distribution is a continuous probability distribution with a probability density function shaped like a triangle. It is defined by three values: lower limit left, peak at mode, and the upper limit right\n",
    "\n",
    "Triangular distribution is used when the distribution is not known, but we do know the most likely outcome.\n",
    "\n",
    "Take for example the production of a pipe laying crew in a construction company.  The company estimate the the minimum output of the crew is 100m per week and the maximum is 1000m.  From historical records, they know that the most likely outcome is 400m.  In the example below, the probability density function is zero for values below 100 and above 1000.  It is linear from 100 to 400, and from 400 to 1000"
   ]
  },
  {
   "cell_type": "code",
   "execution_count": 41,
   "metadata": {},
   "outputs": [
    {
     "data": {
      "image/png": "[encoded data removed]",
      "text/plain": [
       "<Figure size 432x288 with 1 Axes>"
      ]
     },
     "metadata": {
      "needs_background": "light"
     },
     "output_type": "display_data"
    }
   ],
   "source": [
    "z = np.random.triangular(100, 400, 1000, 50000) # 100m is the minimum value, 400m is the peak value and 1000m is the maximum value. 50000 is the sample size\n",
    "plt.xlabel('meters of pipe per week')\n",
    "plt.ylabel('Number of samples')\n",
    "plt.hist(z)\n",
    "plt.show()"
   ]
  },
  {
   "cell_type": "markdown",
   "metadata": {},
   "source": [
    "### 3.5 Exponential distribution\n",
    "\n",
    "numpy.random.exponential function generates samples from an exponential distribution.\n",
    "\n",
    "In probability theory and statistics, the exponential distribution (also known as the negative exponential distribution) is the probability distribution that describes the time between events in a Poisson point process, i.e., a process in which events occur continuously and independently at a constant average rate c 23 \n",
    "It is closely related to the Poisson distribution, which calculates the number of events that occur in an interval of time, in that is calculates the flip side of this i.e. the time taken between two events occurring."
   ]
  },
  {
   "cell_type": "code",
   "execution_count": 43,
   "metadata": {},
   "outputs": [
    {
     "data": {
      "image/png": "[encoded data removed]",
      "text/plain": [
       "<Figure size 432x288 with 1 Axes>"
      ]
     },
     "metadata": {
      "needs_background": "light"
     },
     "output_type": "display_data"
    }
   ],
   "source": [
    "beta = 1/500 # input parameter is 1 over lambda which is the scale\n",
    "z = np.random.exponential(beta, 2000) # generate random numbers from the exponential distribution\n",
    "\n",
    "plt.hist(z, bins=100) # plot histogram of data\n",
    "plt.show() # show histogram"
   ]
  },
  {
   "cell_type": "markdown",
   "metadata": {},
   "source": [
    "# 4 - Explain the use of seeds in generating pseudorandom numbers\n",
    "\n",
    "\n"
   ]
  },
  {
   "cell_type": "markdown",
   "metadata": {},
   "source": [
    "Every time we import random, the subsequent sequnce of random function calls will produce different set of numbers. This is because in general computers will generate pseudorandom numbers when there is no specific condition exists in the function.\n",
    "\n",
    "Sometimes for debugging purposes we would like to generate the same set of numbers every time to keep the same output for reference. This functionality is obtained by setting a seed before we start to generating numbers. \n",
    "\n",
    "Seed function works in conjunction with other functions from Numpy. This method is used to initialize the pseudorandom number generator in Python. When there is no seed function used then the random function will automatically take the current system time. When there is a seed value exists then the random data will produce the same data.\n"
   ]
  },
  {
   "cell_type": "code",
   "execution_count": null,
   "metadata": {},
   "outputs": [],
   "source": []
  }
 ],
 "metadata": {
  "kernelspec": {
   "display_name": "Python 3",
   "language": "python",
   "name": "python3"
  },
  "language_info": {
   "codemirror_mode": {
    "name": "ipython",
    "version": 3
   },
   "file_extension": ".py",
   "mimetype": "text/x-python",
   "name": "python",
   "nbconvert_exporter": "python",
   "pygments_lexer": "ipython3",
   "version": "3.7.1"
  }
 },
 "nbformat": 4,
 "nbformat_minor": 2
}
