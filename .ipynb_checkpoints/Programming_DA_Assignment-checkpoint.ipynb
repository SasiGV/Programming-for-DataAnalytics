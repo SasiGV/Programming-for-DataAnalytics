{
 "cells": [
  {
   "cell_type": "markdown",
   "metadata": {},
   "source": [
    "# Programming-for-DataAnalysis\n",
    "### Practical Assignment for Semester 2 - 2019\n",
    "#### Student Name : Sasikala Varatharajan\n",
    "#### Student Number : G00376470\n",
    "\n",
    "### Assignment Topic : numpy.random package in Python\n"
   ]
  },
  {
   "cell_type": "markdown",
   "metadata": {},
   "source": [
    "##  1. Explain the overall purpose of the package\n",
    "\n",
    "NumPy is the fundamental package for scientific computing with Python. It provides:\n",
    "\n",
    " - a powerful N-dimensional array object\n",
    "\n",
    " - sophisticated (broadcasting) functions\n",
    "\n",
    " - tools for integrating C/C++ and Fortran code\n",
    "\n",
    " - useful linear algebra, Fourier transform, and random number capabilities\n",
    "\n",
    "On the top of it's scientific uses, NumPy can also be used as an efficient multi-dimensional container of generic data. Arbitrary data-types can be defined and this allows NumPy to speedily integrate with a wide variety of databases."
   ]
  },
  {
   "cell_type": "markdown",
   "metadata": {},
   "source": [
    "Numpy is a specialist package that is really efficient dealing with arrays and numbers. It is used to perform different operations. It is a multidimensional array used to store values of same datatypes. It uses much less memory to store data. It takes significantly less amount of memory as compared to python lists. It provie a significant number of additional benefits which makes it easy to apply mathemical calculations.\n",
    "\n",
    "Numpy.random is a sub-package of the numpy package in Python and it is used to generate random (pseudorandom) numbers. A number of other packages depend on Numpy. Interacting with it directly is not that common - You usually interact with numpy objects through the use of other packages such as pandas or scipy. There are a number of ways to generate random numbers and the numpy.random package has four sections to do this:\n",
    "\n",
    "1 - Random Data Sampling\n",
    "\n",
    "2 - Permutations\n",
    "\n",
    "3 - Distributions - different probability distributions\n",
    "\n",
    "4 - Random Generator"
   ]
  },
  {
   "cell_type": "markdown",
   "metadata": {},
   "source": [
    "### 1.1  Importing the libaries for this project: Numpy, Matplotlib, Pandas and Seaborn\n",
    "\n",
    "NumPy is the fundamental package for scientific computing with Python\n",
    "\n",
    "Matplotlib ss a Pythod 2D plotting library for the Python programming language and its numerical mathematics extension NumPy.\n",
    "\n",
    "Pandas is an open source, BSD-licensed library providing high-performance, easy-to-use data structures and data analysis tools.\n",
    "\n",
    "Seaborn is a Python visualization library based on matplotlib. It provides a high-level interface for drawing attractive statistical graphics."
   ]
  },
  {
   "cell_type": "code",
   "execution_count": 1,
   "metadata": {},
   "outputs": [],
   "source": [
    "# import numpy\n",
    "import numpy as np\n",
    "# import matplotlib\n",
    "import matplotlib.pyplot as plt\n",
    "# import pandas\n",
    "import pandas as pd\n",
    "# import seaborn\n",
    "import seaborn as sns"
   ]
  },
  {
   "cell_type": "markdown",
   "metadata": {},
   "source": [
    "## 2. Explian the use of the \"Simple random data\" and \"Permutations\" functions\n",
    "\n",
    "### 2.1 Simple Random Data\n",
    "\n",
    "A research on a large set of data is time consuming and most of the time researchers use to choose a sample data from the large set of data to do their research. \n",
    "\n",
    "All the functions under Simple random data section is doing the same to generate a simple set of random data. The output from the functions are always in a simple structure like one random number, integers only, array of numbers in a 2 x 2 array, numbers in a specific format between the selected range, etc. Now a days a number of gamming apps are using the same technique to suffle the values. \n",
    "\n",
    "I have included few functions from Simple Random data section of numpy.random to show how it is used in Python programming with examples.\n"
   ]
  },
  {
   "cell_type": "markdown",
   "metadata": {},
   "source": [
    "#### 2.1.1 - np.random.rand\n",
    "\n",
    "np.random.rand retuns values in a given shape. It will create an array of the given shape and populate it with random sample from a uniform distribution over [0, 1] \n",
    "\n",
    "The dimentions of the returned array, should all be positive. If no arguments is given a single Pythod float is returned.\n",
    "\n",
    "The example below will return an array with 3 columns and 4 rows with numbers betweeen 0 and 1"
   ]
  },
  {
   "cell_type": "code",
   "execution_count": 2,
   "metadata": {},
   "outputs": [
    {
     "data": {
      "text/plain": [
       "array([[0.25025917, 0.04778962, 0.084583  ],\n",
       "       [0.23044254, 0.34438609, 0.2309101 ],\n",
       "       [0.36496668, 0.69265287, 0.13908988],\n",
       "       [0.16494901, 0.29533918, 0.73098986]])"
      ]
     },
     "execution_count": 2,
     "metadata": {},
     "output_type": "execute_result"
    }
   ],
   "source": [
    "## Generate a 4 X 3 random array with values between 0 and 1\n",
    "\n",
    "np.random.rand(4,3)"
   ]
  },
  {
   "cell_type": "markdown",
   "metadata": {},
   "source": [
    "####  2.1.2 np.random.randint\n",
    "\n",
    "Returns random integers from the \"discrete uniform\" distribution of the specified dtype in the interval. \n",
    "\n",
    "Results from this function contains a size shapped array if random integers from the appropriate distribution or a single random int if size not provided."
   ]
  },
  {
   "cell_type": "code",
   "execution_count": 3,
   "metadata": {},
   "outputs": [
    {
     "data": {
      "text/plain": [
       "array([0, 1, 2, 2, 2, 2, 2, 2, 2, 1])"
      ]
     },
     "execution_count": 3,
     "metadata": {},
     "output_type": "execute_result"
    }
   ],
   "source": [
    "## Generate a 1 X 10 array with values between 0 and 3 \n",
    "\n",
    "np.random.randint(3, size=10)"
   ]
  },
  {
   "cell_type": "markdown",
   "metadata": {},
   "source": [
    "####  2.1.3 np.random.random_sample\n",
    "\n",
    "This function is used to return a array of random floats of shape size. The uniform distribution (continuous) is one of the simplest probability distributions in statistics.\n",
    "\n",
    "If there is no size specified in the function then a single float will be returned.\n"
   ]
  },
  {
   "cell_type": "code",
   "execution_count": 4,
   "metadata": {},
   "outputs": [
    {
     "data": {
      "text/plain": [
       "0.3624600626911477"
      ]
     },
     "execution_count": 4,
     "metadata": {},
     "output_type": "execute_result"
    }
   ],
   "source": [
    "## Generate a random single float \n",
    "\n",
    "np.random.random_sample()"
   ]
  },
  {
   "cell_type": "code",
   "execution_count": 5,
   "metadata": {
    "scrolled": true
   },
   "outputs": [
    {
     "data": {
      "text/plain": [
       "array([[-2.58216591, -1.31597236, -0.8449067 , -0.52956975, -1.05689123],\n",
       "       [-4.47645181, -3.26486873, -0.77337837, -2.55103085, -3.64536568],\n",
       "       [-4.30538946, -3.7851234 , -1.31453752, -3.82047553, -2.40284278],\n",
       "       [-4.23628505, -4.43443956, -2.71092014, -1.55153984, -0.74619419]])"
      ]
     },
     "execution_count": 5,
     "metadata": {},
     "output_type": "execute_result"
    }
   ],
   "source": [
    "## Generate a four by five array of random numbers from [-5,0]\n",
    "\n",
    "5 * np.random.random_sample((4,5)) - 5"
   ]
  },
  {
   "cell_type": "markdown",
   "metadata": {},
   "source": [
    "### 2.2 - Permutations\n",
    "\n",
    "A permutation is used to randomly shuffle the elements of an array.  \n",
    "\n",
    "I have included the function under the \"Permutations\" section of the numpy.random documentation below\n"
   ]
  },
  {
   "cell_type": "markdown",
   "metadata": {},
   "source": [
    "#### 2.2.1 Shuffle\n",
    "\n",
    "This function is used to modify the sequence in-place by shuffling its contents. If it has to shuffle a multi dimentional array then it will only shuffle the array along the first index of it.\n",
    "\n"
   ]
  },
  {
   "cell_type": "code",
   "execution_count": 6,
   "metadata": {},
   "outputs": [
    {
     "data": {
      "text/plain": [
       "array([2, 7, 9, 0, 3, 8, 5, 4, 6, 1])"
      ]
     },
     "execution_count": 6,
     "metadata": {},
     "output_type": "execute_result"
    }
   ],
   "source": [
    "## Generate an array with the given size and shuffle the contents\n",
    "\n",
    "array = np.arange(10)\n",
    "np.random.shuffle(array)\n",
    "array\n"
   ]
  },
  {
   "cell_type": "code",
   "execution_count": 7,
   "metadata": {},
   "outputs": [
    {
     "data": {
      "text/plain": [
       "array([[ 8,  9, 10, 11],\n",
       "       [ 0,  1,  2,  3],\n",
       "       [ 4,  5,  6,  7]])"
      ]
     },
     "execution_count": 7,
     "metadata": {},
     "output_type": "execute_result"
    }
   ],
   "source": [
    "## Generate a multi dimentional array and shuffle the contents\n",
    "\n",
    "array = np.arange(12).reshape((3,4))\n",
    "np.random.shuffle(array)\n",
    "array\n"
   ]
  },
  {
   "cell_type": "markdown",
   "metadata": {},
   "source": [
    "#### 2.2.2 Permutation\n",
    "\n",
    "This function is used to permute a sequence or return a permuted range. If the input value is a multi dimentional array then it will make a copy and shuffle the elements randomly\n"
   ]
  },
  {
   "cell_type": "code",
   "execution_count": 8,
   "metadata": {},
   "outputs": [
    {
     "data": {
      "text/plain": [
       "array([4, 2, 5, 3, 7, 8, 1, 6, 9, 0])"
      ]
     },
     "execution_count": 8,
     "metadata": {},
     "output_type": "execute_result"
    }
   ],
   "source": [
    "## Generate a permute sequence\n",
    "\n",
    "np.random.permutation(10)"
   ]
  },
  {
   "cell_type": "code",
   "execution_count": 9,
   "metadata": {},
   "outputs": [
    {
     "data": {
      "text/plain": [
       "array([20, 12,  6,  8, 25,  3])"
      ]
     },
     "execution_count": 9,
     "metadata": {},
     "output_type": "execute_result"
    }
   ],
   "source": [
    "## Generate a random array from a given array\n",
    "\n",
    "np.random.permutation([3,6,8,12,20,25])\n"
   ]
  },
  {
   "cell_type": "code",
   "execution_count": 12,
   "metadata": {},
   "outputs": [
    {
     "data": {
      "text/plain": [
       "array([[ 0,  1,  2,  3],\n",
       "       [ 4,  5,  6,  7],\n",
       "       [ 8,  9, 10, 11]])"
      ]
     },
     "execution_count": 12,
     "metadata": {},
     "output_type": "execute_result"
    }
   ],
   "source": [
    "## Generate a random array and shuffle it\n",
    "\n",
    "array = np.arange(12).reshape(3,4)\n",
    "np.random.permutation(array)\n",
    "array\n"
   ]
  },
  {
   "cell_type": "code",
   "execution_count": null,
   "metadata": {},
   "outputs": [],
   "source": []
  },
  {
   "cell_type": "code",
   "execution_count": null,
   "metadata": {},
   "outputs": [],
   "source": []
  },
  {
   "cell_type": "code",
   "execution_count": null,
   "metadata": {},
   "outputs": [],
   "source": []
  }
 ],
 "metadata": {
  "kernelspec": {
   "display_name": "Python 3",
   "language": "python",
   "name": "python3"
  },
  "language_info": {
   "codemirror_mode": {
    "name": "ipython",
    "version": 3
   },
   "file_extension": ".py",
   "mimetype": "text/x-python",
   "name": "python",
   "nbconvert_exporter": "python",
   "pygments_lexer": "ipython3",
   "version": "3.7.1"
  }
 },
 "nbformat": 4,
 "nbformat_minor": 2
}
