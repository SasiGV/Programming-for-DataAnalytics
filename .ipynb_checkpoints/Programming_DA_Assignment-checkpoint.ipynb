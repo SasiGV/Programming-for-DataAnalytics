{
 "cells": [
  {
   "cell_type": "markdown",
   "metadata": {},
   "source": [
    "# Programming-for-DataAnalysis\n",
    "### Practical Assignment for Semester 2 - 2019\n",
    "#### Student Name : Sasikala Varatharajan\n",
    "#### Student Number : G00376470\n",
    "\n",
    "### Assignment Topic : numpy.random package in Python\n"
   ]
  },
  {
   "cell_type": "markdown",
   "metadata": {},
   "source": [
    "##  1. Explain the overall purpose of the package\n",
    "\n",
    "NumPy is the fundamental package for scientific computing with Python. It provides:\n",
    "\n",
    " - a powerful N-dimensional array object\n",
    "\n",
    " - sophisticated (broadcasting) functions\n",
    "\n",
    " - tools for integrating C/C++ and Fortran code\n",
    "\n",
    " - useful linear algebra, Fourier transform, and random number capabilities\n",
    "\n",
    "On the top of it's scientific uses, NumPy can also be used as an efficient multi-dimensional container of generic data. Arbitrary data-types can be defined and this allows NumPy to speedily integrate with a wide variety of databases."
   ]
  },
  {
   "cell_type": "markdown",
   "metadata": {},
   "source": [
    "Numpy is a specialist package that is really efficient dealing with arrays and numbers. It is used to perform different operations. It i a multidimensional array used to store values of same datatypes. It uses much less memory to store data. It takes significantly less amount of memory as compared to python lists. It provie a significant number of additional benefits which makes it easy to apply mathemical calculations.\n",
    "\n",
    "Numpy.random is a sub-package of the numpy package in Python and it is used to generate random (pseudorandom) numbers. A number of other packages depend on Numpy. Interacting with it directly is not that common - You usually interact with numpy objects through the use of other packages such as pandas or scipy. There are a number of ways to generate random numbers and the numpy.random package has four sections to do this:\n",
    "\n",
    "1 - Random Data Sampling\n",
    "\n",
    "2 - Permutations\n",
    "\n",
    "3 - Distributions - different probability distributions\n",
    "\n",
    "4 - Random Generator"
   ]
  },
  {
   "cell_type": "code",
   "execution_count": null,
   "metadata": {},
   "outputs": [],
   "source": []
  }
 ],
 "metadata": {
  "kernelspec": {
   "display_name": "Python 3",
   "language": "python",
   "name": "python3"
  },
  "language_info": {
   "codemirror_mode": {
    "name": "ipython",
    "version": 3
   },
   "file_extension": ".py",
   "mimetype": "text/x-python",
   "name": "python",
   "nbconvert_exporter": "python",
   "pygments_lexer": "ipython3",
   "version": "3.7.1"
  }
 },
 "nbformat": 4,
 "nbformat_minor": 2
}
