{
 "cells": [
  {
   "cell_type": "markdown",
   "metadata": {},
   "source": [
    "# Programming-for-DataAnalysis\n",
    "### Practical Assignment for Semester 2 - 2019\n",
    "#### Student Name : Sasikala Varatharajan\n",
    "#### Student Number : G00376470\n",
    "\n",
    "### Assignment Topic : numpy.random package in Python\n"
   ]
  },
  {
   "cell_type": "markdown",
   "metadata": {},
   "source": [
    "##  1. Explain the overall purpose of the package\n",
    "\n",
    "NumPy is the fundamental package for scientific computing with Python. It provides:\n",
    "\n",
    " - a powerful N-dimensional array object\n",
    "\n",
    " - sophisticated (broadcasting) functions\n",
    "\n",
    " - tools for integrating C/C++ and Fortran code\n",
    "\n",
    " - useful linear algebra, Fourier transform, and random number capabilities\n",
    "\n",
    "On the top of it's scientific uses, NumPy can also be used as an efficient multi-dimensional container of generic data. Arbitrary data-types can be defined and this allows NumPy to speedily integrate with a wide variety of databases."
   ]
  },
  {
   "cell_type": "markdown",
   "metadata": {},
   "source": [
    "Numpy is a specialist package that is really efficient dealing with arrays and numbers. It is used to perform different operations. It is a multidimensional array used to store values of same datatypes. It uses much less memory to store data. It takes significantly less amount of memory as compared to python lists. It provie a significant number of additional benefits which makes it easy to apply mathemical calculations.\n",
    "\n",
    "Numpy.random is a sub-package of the numpy package in Python and it is used to generate random (pseudorandom) numbers. A number of other packages depend on Numpy. Interacting with it directly is not that common - You usually interact with numpy objects through the use of other packages such as pandas or scipy. There are a number of ways to generate random numbers and the numpy.random package has four sections to do this:\n",
    "\n",
    "1 - Random Data Sampling\n",
    "\n",
    "2 - Permutations\n",
    "\n",
    "3 - Distributions - different probability distributions\n",
    "\n",
    "4 - Random Generator"
   ]
  },
  {
   "cell_type": "markdown",
   "metadata": {},
   "source": [
    "## 2. Explian the use of the \"Simple random data\" and \"Permutations\" functions\n",
    "\n",
    "### 2.1 Simple Random Data\n",
    "\n",
    "A research on a large set of data is time consuming and most of the time researchers use to choose a sample data from the large set of data to do their research. \n",
    "\n",
    "All the functions under Simple random data section is doing the same to generate a simple set of random data. The output from the functions are always in a simple structure like one random number, integers only, array of numbers in a 2 x 2 array, numbers in a specific format between the selected range, etc. Now a days a number of gamming apps are using the same technique to suffle the values. \n",
    "\n",
    "I have included few functions from Simple Random data section of numpy.random to show how it is used in Python programming with examples.\n"
   ]
  },
  {
   "cell_type": "markdown",
   "metadata": {},
   "source": [
    "#### Importing the libaries for this project: Numpy, Matplotlib, Pandas and Seaborn\n",
    "\n",
    "NumPy is the fundamental package for scientific computing with Python\n",
    "\n",
    "Matplotlib ss a Pythod 2D plotting library for the Python programming language and its numerical mathematics extension NumPy.\n",
    "\n",
    "Pandas is an open source, BSD-licensed library providing high-performance, easy-to-use data structures and data analysis tools.\n",
    "\n",
    "Seaborn is a Python visualization library based on matplotlib. It provides a high-level interface for drawing attractive statistical graphics."
   ]
  },
  {
   "cell_type": "code",
   "execution_count": 2,
   "metadata": {},
   "outputs": [],
   "source": [
    "# import numpy\n",
    "import numpy as np\n",
    "# import matplotlib\n",
    "import matplotlib.pyplot as plt\n",
    "# import pandas\n",
    "import pandas as pd\n",
    "# import seaborn\n",
    "import seaborn as sns"
   ]
  },
  {
   "cell_type": "markdown",
   "metadata": {},
   "source": [
    "### 2.1.1 - np.random.rand\n",
    "\n",
    "np.random.rand retuns values in a given shape. It will create an array of the given shape and populate it with random sample from a uniform distribution over [0, 1] \n",
    "\n",
    "The dimentions of the returned array, should all be positive. If no arguments is given a single Pythod float is returned.\n",
    "\n",
    "The example below will return an array with 3 columns and 4 rows with numbers betweeen 0 and 1"
   ]
  },
  {
   "cell_type": "code",
   "execution_count": 4,
   "metadata": {},
   "outputs": [
    {
     "data": {
      "text/plain": [
       "array([[0.45134425, 0.69399014, 0.2811167 ],\n",
       "       [0.6884298 , 0.42478434, 0.18904754],\n",
       "       [0.46800176, 0.16913846, 0.00787928],\n",
       "       [0.73597463, 0.06689872, 0.64975158]])"
      ]
     },
     "execution_count": 4,
     "metadata": {},
     "output_type": "execute_result"
    }
   ],
   "source": [
    "np.random.rand(4,3)"
   ]
  },
  {
   "cell_type": "code",
   "execution_count": null,
   "metadata": {},
   "outputs": [],
   "source": []
  }
 ],
 "metadata": {
  "kernelspec": {
   "display_name": "Python 3",
   "language": "python",
   "name": "python3"
  },
  "language_info": {
   "codemirror_mode": {
    "name": "ipython",
    "version": 3
   },
   "file_extension": ".py",
   "mimetype": "text/x-python",
   "name": "python",
   "nbconvert_exporter": "python",
   "pygments_lexer": "ipython3",
   "version": "3.7.1"
  }
 },
 "nbformat": 4,
 "nbformat_minor": 2
}
